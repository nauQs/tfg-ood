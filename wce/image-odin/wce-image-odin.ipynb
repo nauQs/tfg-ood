{
 "cells": [
  {
   "cell_type": "code",
   "execution_count": null,
   "id": "still-daniel",
   "metadata": {
    "papermill": {
     "duration": 6.23398,
     "end_time": "2021-12-03T00:43:54.478348",
     "exception": false,
     "start_time": "2021-12-03T00:43:48.244368",
     "status": "completed"
    },
    "tags": []
   },
   "outputs": [],
   "source": [
    "import numpy as np\n",
    "import pandas as pd\n",
    "\n",
    "import os\n",
    "\n",
    "import tensorflow as tf\n",
    "import tensorflow.keras as keras\n",
    "import matplotlib.pyplot as plt\n",
    "import seaborn as sns\n",
    "\n",
    "import imageio\n",
    "from skimage import transform,io\n",
    "\n",
    "from collections import Counter\n",
    "\n",
    "import tensorflow.keras.backend as K\n",
    "\n",
    "from sklearn.model_selection import train_test_split\n",
    "from sklearn.metrics import confusion_matrix\n",
    "from tensorflow.keras.preprocessing.image import ImageDataGenerator\n",
    "from tensorflow.keras.callbacks import ReduceLROnPlateau, EarlyStopping, ModelCheckpoint, LearningRateScheduler\n",
    "from tensorflow.keras.utils import to_categorical   \n",
    "\n",
    "from PIL import ImageFile\n",
    "ImageFile.LOAD_TRUNCATED_IMAGES = True"
   ]
  },
  {
   "cell_type": "code",
   "execution_count": null,
   "id": "vietnamese-watershed",
   "metadata": {},
   "outputs": [],
   "source": [
    "if False: # only for JupyterLab with GPUs environment\n",
    "    import sys\n",
    "    sys.path.insert(0, '/notebooks/')\n",
    "    sys.path.insert(0, '../')\n",
    "    from CapsuleLib.utils import gpu_config\n",
    "    gpuid = gpu_config(False, True)\n",
    "    physical_devices = tf.config.experimental.list_physical_devices('GPU')\n",
    "    tf.config.experimental.set_memory_growth(physical_devices[0], True)"
   ]
  },
  {
   "cell_type": "markdown",
   "id": "actual-absence",
   "metadata": {},
   "source": [
    "## Set paths"
   ]
  },
  {
   "cell_type": "code",
   "execution_count": null,
   "id": "following-boston",
   "metadata": {},
   "outputs": [],
   "source": [
    "SB3_DATA_PATH = 'data/GLF_SB3/' # set paths here!!!\n",
    "NORMAL_DATA_PATH = 'data/normal-images' \n",
    "OOD_DATA_PATH = 'data/ood-images' "
   ]
  },
  {
   "cell_type": "markdown",
   "id": "general-trout",
   "metadata": {
    "papermill": {
     "duration": 0.02886,
     "end_time": "2021-12-03T00:43:54.537221",
     "exception": false,
     "start_time": "2021-12-03T00:43:54.508361",
     "status": "completed"
    },
    "tags": []
   },
   "source": [
    "## Prepare data"
   ]
  },
  {
   "cell_type": "code",
   "execution_count": null,
   "id": "painful-speech",
   "metadata": {},
   "outputs": [],
   "source": [
    "TRAINING = False\n",
    "\n",
    "BATCH_SIZE = 64\n",
    "IM_SIZE_SB2 = 224\n",
    "\n",
    "TEMP = 10000\n",
    "FREEZE = 0\n",
    "suffix = f'-t{TEMP}'\n",
    "suffix"
   ]
  },
  {
   "cell_type": "code",
   "execution_count": null,
   "id": "forty-postage",
   "metadata": {
    "papermill": {
     "duration": 1.904431,
     "end_time": "2021-12-03T00:43:56.470691",
     "exception": false,
     "start_time": "2021-12-03T00:43:54.566260",
     "status": "completed"
    },
    "tags": []
   },
   "outputs": [],
   "source": [
    "classes = pd.DataFrame(columns=[\"label\", \"class\"])\n",
    "\n",
    "filepaths = []\n",
    "for item in os.listdir(NORMAL_DATA_PATH):\n",
    "    classes = classes.append({\"label\":item.split('_')[0], \"class\":item.split('_')[1]}, ignore_index=True)\n",
    "    path = NORMAL_DATA_PATH + item\n",
    "    label = item.split('_')[0]\n",
    "    for image in os.listdir(path):\n",
    "        if image.endswith('.png'):\n",
    "            filepaths.append(path+\"/\"+image)\n",
    "            \n",
    "df = pd.DataFrame({\"filepath\": filepaths})\n",
    "df['label'] = df['filepath'].str[14:15]\n",
    "df = df[df.label!='2'].reset_index(drop=True)\n",
    "classes = classes[classes.label!='2']\n",
    "df['video'] = df['filepath'].str.split('/').str[4].str[:6]\n",
    "df.head()"
   ]
  },
  {
   "cell_type": "code",
   "execution_count": null,
   "id": "humanitarian-answer",
   "metadata": {
    "papermill": {
     "duration": 0.044772,
     "end_time": "2021-12-03T00:43:56.612791",
     "exception": false,
     "start_time": "2021-12-03T00:43:56.568019",
     "status": "completed"
    },
    "tags": []
   },
   "outputs": [],
   "source": [
    "videos = ['182SJH', '070CBA', '079CMS', '078APM', '084SMS', '178EFB', '177SLG', '082VNR', '094IAV', '081SNR']\n",
    "videos_train, videos_val = train_test_split(videos, test_size=0.2, random_state=0)\n",
    "df_train = df[df.video.isin(videos_train)]\n",
    "df_class_val = df[df.video.isin(videos_val)]\n",
    "df_class_val.shape"
   ]
  },
  {
   "cell_type": "code",
   "execution_count": null,
   "id": "lesser-ranch",
   "metadata": {
    "papermill": {
     "duration": 0.785393,
     "end_time": "2021-12-03T00:43:57.496736",
     "exception": false,
     "start_time": "2021-12-03T00:43:56.711343",
     "status": "completed"
    },
    "tags": []
   },
   "outputs": [],
   "source": [
    "def rotate_image(image):\n",
    "    return np.rot90(image, np.random.choice([-1, 0, 1, 2]))\n",
    "datagen = ImageDataGenerator(\n",
    "    rescale=1./255.,\n",
    "    vertical_flip=True,\n",
    "    horizontal_flip=True,\n",
    "    preprocessing_function=rotate_image\n",
    ")\n",
    "train_gen=datagen.flow_from_dataframe(\n",
    "    dataframe=df_train,\n",
    "    x_col=\"filepath\",\n",
    "    y_col=\"label\",\n",
    "    class_mode=\"categorical\",\n",
    "    target_size=(IM_SIZE_SB2,IM_SIZE_SB2),\n",
    "    batch_size=BATCH_SIZE,\n",
    "    shuffle=True,\n",
    "    seed=1)\n",
    "val_class_gen=datagen.flow_from_dataframe(\n",
    "    dataframe=df_class_val,\n",
    "    x_col=\"filepath\",\n",
    "    y_col=\"label\",\n",
    "    class_mode=\"categorical\",\n",
    "    target_size=(IM_SIZE_SB2,IM_SIZE_SB2),\n",
    "    batch_size=BATCH_SIZE,\n",
    "    shuffle=True,\n",
    "    seed=1)"
   ]
  },
  {
   "cell_type": "code",
   "execution_count": null,
   "id": "handed-intelligence",
   "metadata": {
    "papermill": {
     "duration": 0.038387,
     "end_time": "2021-12-03T00:43:57.566204",
     "exception": false,
     "start_time": "2021-12-03T00:43:57.527817",
     "status": "completed"
    },
    "tags": []
   },
   "outputs": [],
   "source": [
    "def visualize_images(generator, n=5):\n",
    "    \n",
    "    batch = generator.next()[0]\n",
    "    \n",
    "    fig, ax = plt.subplots(n,n, figsize=(n,n))\n",
    "    for i in range(n**2):\n",
    "        ax[i%n,int(i/n)].imshow(batch[i])\n",
    "        ax[i%n,int(i/n)].axis('off')\n",
    "    fig.tight_layout()\n",
    "    fig.show()"
   ]
  },
  {
   "cell_type": "code",
   "execution_count": null,
   "id": "appointed-dress",
   "metadata": {
    "papermill": {
     "duration": 4.115336,
     "end_time": "2021-12-03T00:44:01.712373",
     "exception": false,
     "start_time": "2021-12-03T00:43:57.597037",
     "status": "completed"
    },
    "tags": []
   },
   "outputs": [],
   "source": [
    "visualize_images(train_gen)"
   ]
  },
  {
   "cell_type": "code",
   "execution_count": null,
   "id": "civil-sailing",
   "metadata": {
    "papermill": {
     "duration": 4.528893,
     "end_time": "2021-12-03T00:44:06.311472",
     "exception": false,
     "start_time": "2021-12-03T00:44:01.782579",
     "status": "completed"
    },
    "tags": []
   },
   "outputs": [],
   "source": [
    "visualize_images(val_class_gen)"
   ]
  },
  {
   "cell_type": "markdown",
   "id": "stupid-exploration",
   "metadata": {
    "papermill": {
     "duration": 0.054989,
     "end_time": "2021-12-03T00:44:06.421223",
     "exception": false,
     "start_time": "2021-12-03T00:44:06.366234",
     "status": "completed"
    },
    "tags": []
   },
   "source": [
    "## Transfer learning from SB2"
   ]
  },
  {
   "cell_type": "code",
   "execution_count": null,
   "id": "dress-barrel",
   "metadata": {
    "papermill": {
     "duration": 0.061118,
     "end_time": "2021-12-03T00:44:06.537211",
     "exception": false,
     "start_time": "2021-12-03T00:44:06.476093",
     "status": "completed"
    },
    "tags": []
   },
   "outputs": [],
   "source": [
    "if not TRAINING:\n",
    "    model = keras.models.load_model('models/sb3-classifier-best.hdf5')\n",
    "    model.summary()"
   ]
  },
  {
   "cell_type": "code",
   "execution_count": null,
   "id": "acoustic-threshold",
   "metadata": {
    "papermill": {
     "duration": 4.815397,
     "end_time": "2021-12-03T00:44:11.405487",
     "exception": false,
     "start_time": "2021-12-03T00:44:06.590090",
     "status": "completed"
    },
    "tags": []
   },
   "outputs": [],
   "source": [
    "if TRAINING:\n",
    "    model_sb2 = keras.models.load_model('models/sb2-classifier-best.hdf5')\n",
    "    for layer in model_sb2.layers[:FREEZE]:\n",
    "        layer.trainable = False\n",
    "    dropout_top = keras.layers.Dropout(0.5, name=\"dropout_top\")(model_sb2.layers[21].output)\n",
    "    dense_top = keras.layers.Dense(6, name='logits')(dropout_top)\n",
    "    temp_top = keras.layers.Lambda(lambda x: x / TEMP)(dense_top)\n",
    "    out = keras.layers.Activation('softmax', name='softmax')(temp_top)\n",
    "\n",
    "    model = keras.models.Model(inputs=model_sb2.input, outputs=out)\n",
    "    model.summary()"
   ]
  },
  {
   "cell_type": "code",
   "execution_count": null,
   "id": "premium-invention",
   "metadata": {},
   "outputs": [],
   "source": [
    "if TRAINING:\n",
    "    early_stop = EarlyStopping(monitor='val_loss', mode='min', verbose=1, patience=10)\n",
    "    reduce_lr = ReduceLROnPlateau(monitor='val_loss', mode='auto', factor=0.5, \n",
    "                                  verbose=1, patience=5, min_lr=1e-6)\n",
    "    mcp_save = ModelCheckpoint(f'models/sb3-classifier.hdf5', save_best_only=True, monitor='val_loss', mode='min')\n",
    "    def scheduler(epoch, lr):\n",
    "        return 0.9*lr\n",
    "    lr_scheduler = LearningRateScheduler(scheduler, verbose=1)\n",
    "\n",
    "    model.compile(optimizer=keras.optimizers.Adam(learning_rate=0.001),\n",
    "                  loss=\"categorical_crossentropy\", metrics=[\"categorical_accuracy\"])\n",
    "\n",
    "    history = model.fit(train_gen, epochs=100, validation_data=val_class_gen, \n",
    "                        callbacks=[early_stop, reduce_lr, mcp_save, lr_scheduler],\n",
    "                       class_weight={0:2,1:2,2:3,3:2,4:2,5:1})\n",
    "    "
   ]
  },
  {
   "cell_type": "code",
   "execution_count": null,
   "id": "handmade-piece",
   "metadata": {
    "papermill": {
     "duration": 14.156002,
     "end_time": "2021-12-03T01:20:54.330190",
     "exception": false,
     "start_time": "2021-12-03T01:20:40.174188",
     "status": "completed"
    },
    "tags": []
   },
   "outputs": [],
   "source": [
    "y_true, y_pred = np.empty(0,), np.empty(0,)\n",
    "for i, batch in enumerate(val_class_gen):\n",
    "    y_true = np.concatenate([y_true,batch[1].argmax(axis=1)])\n",
    "    y_pred = np.concatenate([y_pred,model.predict(batch[0]).argmax(axis=1)])\n",
    "    if BATCH_SIZE*i>=df_class_val.shape[0]:\n",
    "        break"
   ]
  },
  {
   "cell_type": "code",
   "execution_count": null,
   "id": "decimal-plumbing",
   "metadata": {
    "papermill": {
     "duration": 1.707048,
     "end_time": "2021-12-03T01:20:57.339822",
     "exception": false,
     "start_time": "2021-12-03T01:20:55.632774",
     "status": "completed"
    },
    "tags": []
   },
   "outputs": [],
   "source": [
    "matrix = confusion_matrix(y_true, y_pred)\n",
    "labels = classes.sort_values('label')['class'].values\n",
    "df_cm = pd.DataFrame(matrix, labels, labels)\n",
    "sns.heatmap(df_cm, annot=True, fmt='2g', cmap='Blues') \n",
    "plt.xlabel('predicted class')\n",
    "plt.ylabel('true class')\n",
    "plt.title(\"Confusion matrix\")\n",
    "plt.show()"
   ]
  },
  {
   "cell_type": "code",
   "execution_count": null,
   "id": "hindu-suicide",
   "metadata": {
    "papermill": {
     "duration": 1.439955,
     "end_time": "2021-12-03T01:20:59.878640",
     "exception": false,
     "start_time": "2021-12-03T01:20:58.438685",
     "status": "completed"
    },
    "tags": []
   },
   "outputs": [],
   "source": [
    "perc_matrix = matrix/np.array([matrix.sum(axis=1)]).T\n",
    "df_perc = pd.DataFrame(perc_matrix, labels, labels)\n",
    "sns.heatmap(df_perc, annot=True, cmap='Blues') \n",
    "plt.xlabel('predicted class')\n",
    "plt.ylabel('true class')\n",
    "plt.title(\"Percentage confusion matrix\")\n",
    "plt.show()"
   ]
  },
  {
   "cell_type": "markdown",
   "id": "iraqi-scientist",
   "metadata": {
    "papermill": {
     "duration": 1.11993,
     "end_time": "2021-12-03T01:21:30.584317",
     "exception": false,
     "start_time": "2021-12-03T01:21:29.464387",
     "status": "completed"
    },
    "tags": []
   },
   "source": [
    "## ODIN"
   ]
  },
  {
   "cell_type": "code",
   "execution_count": null,
   "id": "visible-registrar",
   "metadata": {
    "papermill": {
     "duration": 1.187317,
     "end_time": "2021-12-03T01:21:32.900052",
     "exception": false,
     "start_time": "2021-12-03T01:21:31.712735",
     "status": "completed"
    },
    "tags": []
   },
   "outputs": [],
   "source": [
    "def perturb_images(images, epsilon=0.002):\n",
    "    \n",
    "    test_ds_var = tf.Variable(images, trainable=True)\n",
    "\n",
    "    with tf.GradientTape() as tape:\n",
    "        tape.watch(test_ds_var)\n",
    "        logits = model(test_ds_var, training=False)\n",
    "        loss = -tf.reduce_mean(tf.reduce_max(logits, axis=1))\n",
    "\n",
    "    gradients = tape.gradient(loss, test_ds_var)\n",
    "    gradients = tf.math.greater_equal(gradients, 0)\n",
    "    gradients = tf.cast(gradients, tf.float32)\n",
    "    gradients = (gradients - 0.5) * 2\n",
    "\n",
    "    static_tensor = tf.convert_to_tensor(test_ds_var) - epsilon * gradients\n",
    "    static_tensor = tf.clip_by_value(static_tensor, 0., 255.)\n",
    "    \n",
    "    return static_tensor"
   ]
  },
  {
   "cell_type": "code",
   "execution_count": null,
   "id": "checked-honolulu",
   "metadata": {
    "papermill": {
     "duration": 1.171558,
     "end_time": "2021-12-03T01:21:35.153457",
     "exception": false,
     "start_time": "2021-12-03T01:21:33.981899",
     "status": "completed"
    },
    "tags": []
   },
   "outputs": [],
   "source": [
    "path = OOD_DATA_PATH\n",
    "filepaths, image_ids = [], []\n",
    "for image in os.listdir(path):\n",
    "    if image.endswith('.png'):\n",
    "        image_id = image.split('-')[0][-3:]\n",
    "        filepaths.append(os.path.join(path,image))\n",
    "        image_ids.append(image_id)\n",
    "df_ood = pd.DataFrame({\"path\": filepaths, \"image\":image_ids})\n",
    "\n",
    "path = NORMAL_DATA_PATH\n",
    "filepaths, videos = [], []\n",
    "for image in os.listdir(path):\n",
    "    if image.endswith('.png'):\n",
    "        image_id = image[:3]\n",
    "        filepaths.append(os.path.join(path,image))\n",
    "        videos.append(image_id)\n",
    "df_normal = pd.DataFrame({\"path\": filepaths, \"video\":videos})\n",
    "\n",
    "val_gen=datagen.flow_from_dataframe(\n",
    "    dataframe=df_normal,\n",
    "    x_col=\"path\",\n",
    "    class_mode=None,\n",
    "    target_size=(IM_SIZE_SB2,IM_SIZE_SB2),\n",
    "    batch_size=BATCH_SIZE,\n",
    "    shuffle=True,\n",
    "    seed=1)\n",
    "\n",
    "ood_gen=datagen.flow_from_dataframe(\n",
    "    dataframe=df_ood,\n",
    "    x_col=\"path\",\n",
    "    class_mode=None,\n",
    "    target_size=(IM_SIZE_SB2,IM_SIZE_SB2),\n",
    "    batch_size=BATCH_SIZE,\n",
    "    shuffle=True,\n",
    "    seed=1)"
   ]
  },
  {
   "cell_type": "code",
   "execution_count": null,
   "id": "interpreted-atlanta",
   "metadata": {},
   "outputs": [],
   "source": [
    "def visualize_images_2(generator, n=5):\n",
    "    \n",
    "    batch = generator.next()\n",
    "    \n",
    "    fig, ax = plt.subplots(n,n, figsize=(n,n))\n",
    "    for i in range(n**2):\n",
    "        ax[i%n,int(i/n)].imshow(batch[i])\n",
    "        ax[i%n,int(i/n)].axis('off')\n",
    "    fig.tight_layout()\n",
    "    fig.show()"
   ]
  },
  {
   "cell_type": "code",
   "execution_count": null,
   "id": "close-array",
   "metadata": {},
   "outputs": [],
   "source": [
    "visualize_images_2(val_gen)"
   ]
  },
  {
   "cell_type": "code",
   "execution_count": null,
   "id": "increased-richards",
   "metadata": {
    "papermill": {
     "duration": 5.074136,
     "end_time": "2021-12-03T01:21:43.924622",
     "exception": false,
     "start_time": "2021-12-03T01:21:38.850486",
     "status": "completed"
    },
    "tags": []
   },
   "outputs": [],
   "source": [
    "visualize_images_2(ood_gen)"
   ]
  },
  {
   "cell_type": "markdown",
   "id": "fuzzy-alberta",
   "metadata": {
    "papermill": {
     "duration": 1.23651,
     "end_time": "2021-12-03T01:21:46.274302",
     "exception": false,
     "start_time": "2021-12-03T01:21:45.037792",
     "status": "completed"
    },
    "tags": []
   },
   "source": [
    "### Plot MSP histograms"
   ]
  },
  {
   "cell_type": "code",
   "execution_count": null,
   "id": "subject-american",
   "metadata": {
    "papermill": {
     "duration": 1.409259,
     "end_time": "2021-12-03T01:21:48.795620",
     "exception": false,
     "start_time": "2021-12-03T01:21:47.386361",
     "status": "completed"
    },
    "tags": []
   },
   "outputs": [],
   "source": [
    "def get_msp(image_batch):\n",
    "    softmax_probs = model.predict(image_batch)\n",
    "    return 1-np.max(softmax_probs, axis=1)\n",
    "\n",
    "def plot_hist(runs=50, epsilon=0):\n",
    "    msp_list = []\n",
    "    for generator in [val_gen, ood_gen]:\n",
    "        msp = []\n",
    "        for n in range(runs):\n",
    "            batch = generator.next()\n",
    "            if epsilon==0:\n",
    "                msp = np.concatenate([msp,get_msp(batch)])\n",
    "            else:\n",
    "                msp = np.concatenate([msp,get_msp(perturb_images(batch, epsilon))])\n",
    "        msp_list.append(msp)\n",
    "    \n",
    "    fig, ax = plt.subplots(figsize=(10,6))\n",
    "    logbins = np.logspace(-7,0,80)\n",
    "    ax.hist(msp_list[0], bins=logbins, alpha=0.4, label=\"Validation\", color=\"blue\")\n",
    "    ax.hist(msp_list[1], bins=logbins, alpha=0.5, label=\"OOD\", color=\"orange\")\n",
    "    #ax.axvline(x=THRESHOLD, color='r')\n",
    "    plt.xlabel(\"MSP\")\n",
    "    plt.xscale('log')\n",
    "    plt.legend()\n",
    "    plt.title(\"MSP histograms\")\n",
    "    fig.show()\n",
    "    \n",
    "    fig.savefig(f'results/hist-e{epsilon}-F{FREEZE}.png')"
   ]
  },
  {
   "cell_type": "code",
   "execution_count": null,
   "id": "bigger-wilderness",
   "metadata": {},
   "outputs": [],
   "source": [
    "for eps in [0, 0.001, 0.0025]:\n",
    "    plot_hist(epsilon=eps)"
   ]
  },
  {
   "cell_type": "code",
   "execution_count": null,
   "id": "psychological-underwear",
   "metadata": {},
   "outputs": [],
   "source": [
    "def plot_hist_epsilon(epsilon_list):\n",
    "    \n",
    "    for epsilon in epsilon_list:\n",
    "        print(epsilon)\n",
    "        \n",
    "        msp_list = []\n",
    "        for generator in [val_gen, ood_gen]:\n",
    "            msp = []\n",
    "            for n in range(200):\n",
    "                batch = generator.next()\n",
    "                if epsilon==0:\n",
    "                    msp = np.concatenate([msp,get_msp(batch)])\n",
    "                else:\n",
    "                    msp = np.concatenate([msp,get_msp(perturb_images(batch, epsilon))])\n",
    "            msp_list.append(msp)\n",
    "            \n",
    "        fig, ax = plt.subplots(figsize=(4,3), dpi=100)\n",
    "        logbins = np.logspace(-6,0,50)\n",
    "        ax.hist(msp_list[0], bins=logbins, alpha=0.4, label=\"Validation\", color=\"blue\")\n",
    "        ax.hist(msp_list[1], bins=logbins, alpha=0.5, label=\"OOD\", color=\"orange\")\n",
    "        ax.set_xlabel(\"1-$\\mathcal{S}(x)$\")\n",
    "        ax.set_yticks([])\n",
    "        ax.set_xscale('log')\n",
    "        ax.legend()\n",
    "        plt.savefig(f'results/tfg-hist-eps{epsilon}.png',  bbox_inches='tight')\n",
    "        fig.show()"
   ]
  },
  {
   "cell_type": "markdown",
   "id": "normal-commander",
   "metadata": {
    "papermill": {
     "duration": 1.391241,
     "end_time": "2021-12-03T01:24:22.319531",
     "exception": false,
     "start_time": "2021-12-03T01:24:20.928290",
     "status": "completed"
    },
    "tags": []
   },
   "source": [
    "### Plot ROC curve"
   ]
  },
  {
   "cell_type": "code",
   "execution_count": null,
   "id": "stable-swedish",
   "metadata": {
    "papermill": {
     "duration": 1.201481,
     "end_time": "2021-12-03T01:24:24.651496",
     "exception": false,
     "start_time": "2021-12-03T01:24:23.450015",
     "status": "completed"
    },
    "tags": []
   },
   "outputs": [],
   "source": [
    "def plot_roc(runs=30, threshold_range=np.concatenate([[0.],np.logspace(-8,-4,30), np.logspace(-4,-1,150), np.logspace(-1,0,50)]),\n",
    "                   label=\"MSP\", batch_size = BATCH_SIZE, epsilon=0):\n",
    "    \n",
    "    y_pred, y_true, y_probs = [], [], []\n",
    "    \n",
    "    for n in range(runs):\n",
    "        \n",
    "        val_batch = val_gen.next()\n",
    "        test_batch = ood_gen.next()\n",
    "        \n",
    "        if epsilon==0:\n",
    "            val_msp = get_msp(val_batch)\n",
    "            test_msp = get_msp(test_batch)\n",
    "        else:\n",
    "            val_msp = get_msp(perturb_images(val_batch, epsilon))\n",
    "            test_msp = get_msp(perturb_images(test_batch, epsilon))\n",
    "        \n",
    "        if val_msp.shape[0]==batch_size:\n",
    "            y_probs = np.concatenate([y_probs, val_msp])\n",
    "            y_true = np.concatenate([y_true, np.zeros(batch_size)])\n",
    "        \n",
    "        if test_msp.shape[0]==batch_size:\n",
    "            y_probs = np.concatenate([y_probs, test_msp])\n",
    "            y_true = np.concatenate([y_true, np.ones(batch_size)])\n",
    "\n",
    "    roc_values = []\n",
    "    \n",
    "    for threshold in threshold_range:\n",
    "        \n",
    "        y_pred = np.where(y_probs >= threshold, 1, 0)\n",
    "        \n",
    "        sensitivity = np.sum(np.logical_and(y_pred,y_true))/np.sum(y_true)\n",
    "        specificity = np.sum(~np.logical_or(y_pred,y_true)/(y_pred.size-np.sum(y_true)))\n",
    "                             \n",
    "        roc_values.append((1-specificity, sensitivity))\n",
    "\n",
    "    plt.step(*list(zip(*roc_values)), where='post', label=f'$\\epsilon$={epsilon}')\n",
    "    plt.xlabel(\"1 - specificity\")\n",
    "    plt.ylabel(\"sensitivity\")\n",
    "    plt.plot([0,1], [0,1], '--', color=\"gray\", linewidth=2)\n",
    "    plt.legend()\n",
    "    plt.title(\"WCE ODIN ROC\")\n",
    "    plt.xlim([0, 1])\n",
    "    plt.ylim([0, 1])\n",
    "    plt.savefig(f'results/roc-e{epsilon}-F{FREEZE}.png')\n",
    "    \n",
    "    revspec, sens = zip(*roc_values)\n",
    "    revspec, sens = np.array(revspec), np.array(sens)\n",
    "    spec = 1-np.array(revspec)\n",
    "    \n",
    "    df_roc = pd.DataFrame({'spec':spec, 'sens':sens})\n",
    "    df_roc.to_csv(f'results/roc-e{epsilon}.csv')\n",
    "\n",
    "    # metrics\n",
    "    print(\"AUROC:\",np.abs(np.trapz(spec, np.array(sens))))\n",
    "    print(\"FPR80:\",revspec[np.argmin(np.abs(sens-0.85))])\n",
    "    print(\"FPR90:\",revspec[np.argmin(np.abs(sens-0.90))])"
   ]
  },
  {
   "cell_type": "code",
   "execution_count": null,
   "id": "automotive-exploration",
   "metadata": {},
   "outputs": [],
   "source": [
    "plot_roc(epsilon=0.002)"
   ]
  },
  {
   "cell_type": "code",
   "execution_count": null,
   "id": "proper-expense",
   "metadata": {},
   "outputs": [],
   "source": [
    "for eps in [0, 0.001, 0.0025, 0.005]:\n",
    "    plot_roc(epsilon=eps)"
   ]
  },
  {
   "cell_type": "markdown",
   "id": "brief-timing",
   "metadata": {
    "papermill": {
     "duration": 1.128556,
     "end_time": "2021-12-03T01:26:06.938393",
     "exception": false,
     "start_time": "2021-12-03T01:26:05.809837",
     "status": "completed"
    },
    "tags": []
   },
   "source": [
    "## Qualitative analysis"
   ]
  },
  {
   "cell_type": "code",
   "execution_count": null,
   "id": "funky-enlargement",
   "metadata": {},
   "outputs": [],
   "source": [
    "images = np.empty((0,224,224,3))\n",
    "scores = np.empty((0,))\n",
    "N = 4\n",
    "for n in range(N):\n",
    "    batch = ood_gen.next()\n",
    "    batch_scores = get_msp(perturb_images(batch, 0.002))\n",
    "    \n",
    "    images = np.concatenate([images, batch])\n",
    "    scores = np.concatenate([scores, batch_scores])\n",
    "    \n",
    "sorted_images = list(images[np.argsort(scores)])"
   ]
  },
  {
   "cell_type": "code",
   "execution_count": null,
   "id": "grand-illustration",
   "metadata": {},
   "outputs": [],
   "source": [
    "# top 5\n",
    "n = 5\n",
    "top_image = np.zeros((224, 224*n, 3))\n",
    "top_images = sorted_images[-n:]\n",
    "np.random.shuffle(top_images)\n",
    "for i, image in enumerate(top_images):\n",
    "    top_image[:,i*224:(i+1)*224,:] += image\n",
    "plt.imshow(top_image)\n",
    "plt.axis('off')\n",
    "plt.savefig(f'qualitative/top_images.png', dpi=300)"
   ]
  },
  {
   "cell_type": "code",
   "execution_count": null,
   "id": "interior-masters",
   "metadata": {},
   "outputs": [],
   "source": [
    "# top 5\n",
    "n = 5\n",
    "bot_image = np.zeros((224, 224*n, 3))\n",
    "bot_images = sorted_images[:n]\n",
    "np.random.shuffle(bot_images)\n",
    "for i, image in enumerate(bot_images):\n",
    "    bot_image[:,i*224:(i+1)*224,:] += image\n",
    "plt.imshow(bot_image)\n",
    "plt.axis('off')\n",
    "plt.savefig(f'qualitative/bot_images.png', dpi=300)"
   ]
  },
  {
   "cell_type": "code",
   "execution_count": null,
   "id": "plain-operator",
   "metadata": {},
   "outputs": [],
   "source": []
  }
 ],
 "metadata": {
  "kernelspec": {
   "display_name": "Python 3",
   "language": "python",
   "name": "python3"
  },
  "language_info": {
   "codemirror_mode": {
    "name": "ipython",
    "version": 3
   },
   "file_extension": ".py",
   "mimetype": "text/x-python",
   "name": "python",
   "nbconvert_exporter": "python",
   "pygments_lexer": "ipython3",
   "version": "3.8.8"
  },
  "papermill": {
   "default_parameters": {},
   "duration": 2605.117782,
   "end_time": "2021-12-03T01:27:05.817141",
   "environment_variables": {},
   "exception": null,
   "input_path": "__notebook__.ipynb",
   "output_path": "__notebook__.ipynb",
   "parameters": {},
   "start_time": "2021-12-03T00:43:40.699359",
   "version": "2.3.3"
  }
 },
 "nbformat": 4,
 "nbformat_minor": 5
}
