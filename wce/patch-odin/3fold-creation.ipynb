{
 "cells": [
  {
   "cell_type": "code",
   "execution_count": null,
   "id": "extraordinary-foster",
   "metadata": {},
   "outputs": [],
   "source": [
    "import pandas as pd\n",
    "\n",
    "import os\n",
    "\n",
    "from sklearn.model_selection import train_test_split"
   ]
  },
  {
   "cell_type": "code",
   "execution_count": null,
   "id": "quiet-cylinder",
   "metadata": {},
   "outputs": [],
   "source": [
    "cluster_df = pd.read_csv(f'clustering/10cluster-KMeans.csv')\n",
    "videos = cluster_df.case.unique()\n",
    "N = round(len(videos)/3)\n",
    "df = pd.DataFrame({'video': videos})\n",
    "\n",
    "for fold in range(1,4):\n",
    "    if fold != 3:\n",
    "        videos_train, videos_val = train_test_split(videos, test_size=N/len(videos), random_state=0)\n",
    "        df[f'fold-{fold}'] = df.video.map(lambda x: x in videos_val)\n",
    "        videos = videos_train.copy()\n",
    "    else: df[f'fold-{fold}'] = df.video.map(lambda x: x in videos_train)\n",
    "        "
   ]
  },
  {
   "cell_type": "code",
   "execution_count": null,
   "id": "prime-strand",
   "metadata": {},
   "outputs": [],
   "source": [
    "df.to_csv('3folds.csv', index=False)"
   ]
  }
 ],
 "metadata": {
  "kernelspec": {
   "display_name": "Python 3",
   "language": "python",
   "name": "python3"
  },
  "language_info": {
   "codemirror_mode": {
    "name": "ipython",
    "version": 3
   },
   "file_extension": ".py",
   "mimetype": "text/x-python",
   "name": "python",
   "nbconvert_exporter": "python",
   "pygments_lexer": "ipython3",
   "version": "3.8.5"
  }
 },
 "nbformat": 4,
 "nbformat_minor": 5
}
