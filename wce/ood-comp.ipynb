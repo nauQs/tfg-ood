{
 "cells": [
  {
   "cell_type": "markdown",
   "id": "alleged-archive",
   "metadata": {},
   "source": [
    "# OOD image vs patch comparison"
   ]
  },
  {
   "cell_type": "code",
   "execution_count": 1,
   "id": "described-orchestra",
   "metadata": {},
   "outputs": [],
   "source": [
    "import numpy as np\n",
    "import pandas as pd\n",
    "\n",
    "import os\n",
    "\n",
    "import matplotlib.pyplot as plt\n",
    "import seaborn as sns\n",
    "\n",
    "if False: # only for JupyterLab with GPUs environment\n",
    "    import sys\n",
    "    sys.path.insert(0, '/notebooks/')\n",
    "    sys.path.insert(0, '../')\n",
    "    from CapsuleLib.utils import gpu_config, availableGPU\n",
    "    gpuid = gpu_config(False, True)"
   ]
  },
  {
   "cell_type": "markdown",
   "id": "favorite-tract",
   "metadata": {},
   "source": [
    "## Paths setting"
   ]
  },
  {
   "cell_type": "code",
   "execution_count": 2,
   "id": "burning-girlfriend",
   "metadata": {},
   "outputs": [],
   "source": [
    "IMAGE_RESULTS_PATH = \"/notebooks/Arnau/global-odin/results\" # set paths here!\n",
    "PATCH_RESULTS_PATH = \"/notebooks/Arnau/patch-self-supervised/3fold/results\""
   ]
  },
  {
   "cell_type": "markdown",
   "id": "cooked-client",
   "metadata": {},
   "source": [
    "## ROC comparison"
   ]
  },
  {
   "cell_type": "code",
   "execution_count": 3,
   "id": "religious-poetry",
   "metadata": {},
   "outputs": [],
   "source": [
    "image_roc = pd.read_csv(os.path.join(IMAGE_RESULTS_PATH, 'roc-e0.002.csv'))\n",
    "roc_image_values = 1-image_roc.spec.values, image_roc.sens.values\n",
    "\n",
    "patch_20_roc = pd.read_csv(os.path.join(PATCH_RESULTS_PATH, '20/roc-20-top5-t1000-eps0.001-f1.csv'))\n",
    "roc_20_values = 1-patch_20_roc.spec.values, patch_20_roc.sens.values\n",
    "\n",
    "patch_15_roc = pd.read_csv(os.path.join(PATCH_RESULTS_PATH, '15/roc-15-top5-t1000-eps0.0005-f1.csv'))\n",
    "roc_15_values = 1-patch_15_roc.spec.values, patch_15_roc.sens.values\n",
    "\n",
    "patch_10_roc = pd.read_csv(os.path.join(PATCH_RESULTS_PATH, '10/roc-10-top5-t1000-eps0.0005-f3.csv'))\n",
    "roc_10_values = 1-patch_10_roc.spec.values, patch_10_roc.sens.values"
   ]
  },
  {
   "cell_type": "code",
   "execution_count": 4,
   "id": "subsequent-richards",
   "metadata": {},
   "outputs": [
    {
     "data": {
      "text/plain": [
       "(0.0, 1.0)"
      ]
     },
     "execution_count": 4,
     "metadata": {},
     "output_type": "execute_result"
    },
    {
     "data": {
      "image/png": "[encoded data removed]",
      "text/plain": [
       "<Figure size 432x288 with 1 Axes>"
      ]
     },
     "metadata": {
      "needs_background": "light"
     },
     "output_type": "display_data"
    }
   ],
   "source": [
    "plt.step(*roc_20_values, where='post', label=f'patch 20 ODIN')\n",
    "plt.step(*roc_15_values, where='post', label=f'patch 15 ODIN')\n",
    "plt.step(*roc_10_values, where='post', label=f'patch 10 ODIN')\n",
    "plt.step(*roc_image_values, where='post', label=f'image ODIN')\n",
    "plt.xlabel(\"1 - specificity\")\n",
    "plt.ylabel(\"sensitivity\")\n",
    "plt.plot([0,1], [0,1], '--', color=\"gray\", linewidth=2)\n",
    "plt.legend()\n",
    "plt.title(\"WCE OOD ROC\")\n",
    "plt.xlim([0, 1])\n",
    "plt.ylim([0, 1])"
   ]
  },
  {
   "cell_type": "code",
   "execution_count": 5,
   "id": "hollywood-michigan",
   "metadata": {},
   "outputs": [
    {
     "name": "stdout",
     "output_type": "stream",
     "text": [
      "AUROC: 0.8371510225183822\n",
      "FPR80: 0.39765624999999993\n",
      "FPR90: 0.475\n",
      "\n",
      "AUROC: 0.791351318359375\n",
      "FPR80: 0.52421875\n",
      "FPR90: 0.63203125\n",
      "\n",
      "AUROC: 0.7744370404411764\n",
      "FPR80: 0.52734375\n",
      "FPR90: 0.64765625\n",
      "\n",
      "AUROC: 0.6741364655671296\n",
      "FPR80: 0.6015625\n",
      "FPR90: 0.6557291666666667\n",
      "\n"
     ]
    }
   ],
   "source": [
    "for roc_values in [roc_20_values, roc_15_values, roc_10_values, roc_image_values]:\n",
    "    revspec, sens = roc_values\n",
    "    revspec, sens = np.array(revspec), np.array(sens)\n",
    "    spec = 1-np.array(revspec)\n",
    "\n",
    "    # metrics\n",
    "    print(\"AUROC:\",np.abs(np.trapz(spec, np.array(sens))))\n",
    "    print(\"FPR80:\",revspec[np.argmin(np.abs(sens-0.85))])\n",
    "    print(\"FPR90:\",revspec[np.argmin(np.abs(sens-0.90))])\n",
    "    print(\"\")"
   ]
  }
 ],
 "metadata": {
  "kernelspec": {
   "display_name": "Python 3",
   "language": "python",
   "name": "python3"
  },
  "language_info": {
   "codemirror_mode": {
    "name": "ipython",
    "version": 3
   },
   "file_extension": ".py",
   "mimetype": "text/x-python",
   "name": "python",
   "nbconvert_exporter": "python",
   "pygments_lexer": "ipython3",
   "version": "3.8.5"
  }
 },
 "nbformat": 4,
 "nbformat_minor": 5
}
